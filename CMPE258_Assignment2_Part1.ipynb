{
  "nbformat": 4,
  "nbformat_minor": 0,
  "metadata": {
    "colab": {
      "name": "CMPE258_Assignment2_Part1.ipynb",
      "provenance": [],
      "authorship_tag": "ABX9TyNvkU7Gix/PHVYZpywP3CP8",
      "include_colab_link": true
    },
    "kernelspec": {
      "name": "python3",
      "display_name": "Python 3"
    },
    "language_info": {
      "name": "python"
    }
  },
  "cells": [
    {
      "cell_type": "markdown",
      "metadata": {
        "id": "view-in-github",
        "colab_type": "text"
      },
      "source": [
        "<a href=\"https://colab.research.google.com/github/nevilshah444/Tensor_Operations/blob/main/CMPE258_Assignment2_Part1.ipynb\" target=\"_parent\"><img src=\"https://colab.research.google.com/assets/colab-badge.svg\" alt=\"Open In Colab\"/></a>"
      ]
    },
    {
      "cell_type": "markdown",
      "source": [
        "Assignment 1 : Performing basic operations on tensor\n",
        "\n",
        "A tensor is basically a container that is used to store the numerical data and it is a basic data structure used in Machine Learning Algorithms.\n",
        "\n",
        "In this assignment, we will perform some basic operations on tensor"
      ],
      "metadata": {
        "id": "2OZ-SP-FiCNj"
      }
    },
    {
      "cell_type": "code",
      "source": [
        "import tensorflow as tf\n",
        "import numpy as np"
      ],
      "metadata": {
        "id": "iV5DrJoIj_Lv"
      },
      "execution_count": null,
      "outputs": []
    },
    {
      "cell_type": "markdown",
      "source": [
        "# Scalar Tensor"
      ],
      "metadata": {
        "id": "OpMjSL8cjlHw"
      }
    },
    {
      "cell_type": "code",
      "execution_count": null,
      "metadata": {
        "colab": {
          "base_uri": "https://localhost:8080/"
        },
        "id": "6ViBfUhdh286",
        "outputId": "0a5579fd-dfcf-42a8-8c91-2bca19bc1d00"
      },
      "outputs": [
        {
          "output_type": "stream",
          "name": "stdout",
          "text": [
            "tf.Tensor(1, shape=(), dtype=int32)\n"
          ]
        }
      ],
      "source": [
        "# It is just a data structure storing constants and the rank is zero.\n",
        "scalar_tensor = tf.constant(1)\n",
        "print(scalar_tensor)"
      ]
    },
    {
      "cell_type": "markdown",
      "source": [
        "#Vector Tensor (Rank 1 tensor)"
      ],
      "metadata": {
        "id": "NOaV7mOilDM1"
      }
    },
    {
      "cell_type": "code",
      "source": [
        "# Rank 1 tensor\n",
        "vector_tensor = tf.constant([1.0, 2.0, 3.0, 4.0])\n",
        "print(vector_tensor)"
      ],
      "metadata": {
        "colab": {
          "base_uri": "https://localhost:8080/"
        },
        "id": "3-VX2QVTlHln",
        "outputId": "ff95a3da-017b-4a20-bcd8-1d3ea68ec95c"
      },
      "execution_count": null,
      "outputs": [
        {
          "output_type": "stream",
          "name": "stdout",
          "text": [
            "tf.Tensor([1. 2. 3. 4.], shape=(4,), dtype=float32)\n"
          ]
        }
      ]
    },
    {
      "cell_type": "markdown",
      "source": [
        "#Matrix Tensor\n",
        "\n",
        "In this section, we will not only define the matrix tensors, but also perform some of the arithmetic operations over them."
      ],
      "metadata": {
        "id": "vIRd6_Vol8Yc"
      }
    },
    {
      "cell_type": "code",
      "source": [
        "matrix_tensor1 =  tf.constant([[1, 1],[1, 1]]) # this will create a 2x2 matrix\n",
        "\n",
        "matrix_tensor2 =  tf.constant([[1, 0], [0,1]])\n",
        "\n",
        "matrix_tensor3 =  tf.constant([[1, 0], [0,1],[5,6]])\n",
        "\n"
      ],
      "metadata": {
        "id": "KH1XbfwflXE9"
      },
      "execution_count": null,
      "outputs": []
    },
    {
      "cell_type": "code",
      "source": [
        "#perform operations on Matrix tensors\n",
        "\n",
        "# Largest value inside the matrix tensor\n",
        "print(\"Largest value of tensor 1 \",tf.reduce_max(matrix_tensor1))\n",
        "print(\"Largest value of tensor 2 \",tf.reduce_max(matrix_tensor2))\n",
        "# Index of the largest value present inside the matrix tensor\n",
        "print(\"index of Largest value of tensor 1\",tf.argmax(matrix_tensor1))\n",
        "print(\"index of Largest value of tensor 2\",tf.argmax(matrix_tensor2))\n",
        "# Arithmetic Addition of 2 tensors\n",
        "print(\"Arithmetic Addition\",tf.add(matrix_tensor1, matrix_tensor2), \"\\n\")\n",
        "# Multiplication of 2 tensors\n",
        "print(\"Multiplication\",tf.multiply(matrix_tensor1, matrix_tensor2), \"\\n\")\n",
        "# Matrix Multiplication\n",
        "print(\"Matrix Multiplication\",tf.matmul(matrix_tensor1, matrix_tensor2), \"\\n\")\n"
      ],
      "metadata": {
        "colab": {
          "base_uri": "https://localhost:8080/"
        },
        "id": "5bn5RWz4l7K7",
        "outputId": "7d1c1c00-2866-4049-a0f2-b23f9f0d3c64"
      },
      "execution_count": null,
      "outputs": [
        {
          "output_type": "stream",
          "name": "stdout",
          "text": [
            "Largest value of tensor 1  tf.Tensor(1, shape=(), dtype=int32)\n",
            "Largest value of tensor 2  tf.Tensor(1, shape=(), dtype=int32)\n",
            "index of Largest value of tensor 1 tf.Tensor([0 0], shape=(2,), dtype=int64)\n",
            "index of Largest value of tensor 2 tf.Tensor([0 1], shape=(2,), dtype=int64)\n",
            "Arithmetic Addition tf.Tensor(\n",
            "[[2 1]\n",
            " [1 2]], shape=(2, 2), dtype=int32) \n",
            "\n",
            "Multiplication tf.Tensor(\n",
            "[[1 0]\n",
            " [0 1]], shape=(2, 2), dtype=int32) \n",
            "\n",
            "Matrix Multiplication tf.Tensor(\n",
            "[[1 1]\n",
            " [1 1]], shape=(2, 2), dtype=int32) \n",
            "\n"
          ]
        }
      ]
    },
    {
      "cell_type": "code",
      "source": [
        "print(\"Type of every element:\", matrix_tensor1.dtype)\n",
        "print(\"Number of axes:\", matrix_tensor1.ndim)\n",
        "print(\"Shape of tensor:\", matrix_tensor1.shape)\n",
        "print(\"Elements along axis 0 of tensor:\", matrix_tensor1.shape[0])\n",
        "print(\"Elements along the last axis of tensor:\", matrix_tensor1.shape[-1])\n",
        "print(\"Total number of elements (3*2*4*5): \", tf.size(matrix_tensor1).numpy())"
      ],
      "metadata": {
        "id": "eks7UENCuVZL",
        "colab": {
          "base_uri": "https://localhost:8080/"
        },
        "outputId": "00d15eb4-4bcb-4e6e-dc5b-9111157473d5"
      },
      "execution_count": null,
      "outputs": [
        {
          "output_type": "stream",
          "name": "stdout",
          "text": [
            "Type of every element: <dtype: 'int32'>\n",
            "Number of axes: 2\n",
            "Shape of tensor: (2, 2)\n",
            "Elements along axis 0 of tensor: 2\n",
            "Elements along the last axis of tensor: 2\n",
            "Total number of elements (3*2*4*5):  4\n"
          ]
        }
      ]
    },
    {
      "cell_type": "markdown",
      "source": [
        "#Indexing"
      ],
      "metadata": {
        "id": "Dc5hchVSuHNu"
      }
    },
    {
      "cell_type": "code",
      "source": [
        "# Scalar tensor\n",
        "\n",
        "tensor1 = tf.zeros([1,2,3,4,5,6,7,8,9])\n",
        "\n",
        "print(\"Integer present:\", tensor1.ndim)\n",
        "\n",
        "print(\"Shape :\", tensor1.shape)\n",
        "\n",
        "print(\"Elements along second axis of tensor:\", tensor1.shape[2])\n",
        "\n",
        "print(\"Elements along the last axis of tensor:\", tensor1.shape[-1])"
      ],
      "metadata": {
        "colab": {
          "base_uri": "https://localhost:8080/"
        },
        "id": "SXQEsrRouJvN",
        "outputId": "73ff72e7-676d-451c-bbfd-e8a38c97885b"
      },
      "execution_count": null,
      "outputs": [
        {
          "output_type": "stream",
          "name": "stdout",
          "text": [
            "Integer present: 9\n",
            "Shape : (1, 2, 3, 4, 5, 6, 7, 8, 9)\n",
            "Elements along second axis of tensor: 3\n",
            "Elements along the last axis of tensor: 9\n"
          ]
        }
      ]
    },
    {
      "cell_type": "code",
      "source": [
        "# Slicing of the indices to get a specific portion of the tensor\n",
        "print(\"The tensor displayed is :\", matrix_tensor3[:].numpy())\n",
        "\n",
        "print(\"From 3, before the second last element:\", matrix_tensor3[2:7].numpy())\n",
        "print(\"Reversed tensor is displayed as :\", matrix_tensor3[::-1].numpy())"
      ],
      "metadata": {
        "colab": {
          "base_uri": "https://localhost:8080/"
        },
        "id": "-Pa7lQ3S0WmW",
        "outputId": "b3332d14-0ca0-4106-a420-7ef4fd73a756"
      },
      "execution_count": null,
      "outputs": [
        {
          "output_type": "stream",
          "name": "stdout",
          "text": [
            "The tensor displayed is : [[1 0]\n",
            " [0 1]\n",
            " [5 6]]\n",
            "From 3, before the second last element: [[5 6]]\n",
            "Reversed tensor is displayed as : [[5 6]\n",
            " [0 1]\n",
            " [1 0]]\n"
          ]
        }
      ]
    },
    {
      "cell_type": "markdown",
      "source": [
        "Size Manipulation:"
      ],
      "metadata": {
        "id": "YGMghtXX6Iod"
      }
    },
    {
      "cell_type": "code",
      "source": [
        "# Shape returns a `TensorShape` object that shows the size along each axis\n",
        "x = tf.constant([[1], [2], [3],[4],[5],[6]])\n",
        "print(\"The size of a tensor is \",x.shape)"
      ],
      "metadata": {
        "colab": {
          "base_uri": "https://localhost:8080/"
        },
        "id": "vT7C8WUrtUW5",
        "outputId": "ef9244eb-6afc-4de9-d20c-7e5e12c6b894"
      },
      "execution_count": null,
      "outputs": [
        {
          "output_type": "stream",
          "name": "stdout",
          "text": [
            "The size of a tensor is  (6, 1)\n"
          ]
        }
      ]
    },
    {
      "cell_type": "code",
      "source": [
        "reshape = tf.reshape(x, [1, 6])\n",
        "print(\"The size  of a reshaped tensor x is \",reshape.shape)\n",
        "print(\"The reshaped tensor is\", reshape)"
      ],
      "metadata": {
        "colab": {
          "base_uri": "https://localhost:8080/"
        },
        "id": "ivudHtkp6Qq6",
        "outputId": "8a97844b-0d03-4879-e6de-4e552843ad09"
      },
      "execution_count": null,
      "outputs": [
        {
          "output_type": "stream",
          "name": "stdout",
          "text": [
            "The size  of a reshaped tensor x is  (1, 6)\n",
            "The reshaped tensor is tf.Tensor([[1 2 3 4 5 6]], shape=(1, 6), dtype=int32)\n"
          ]
        }
      ]
    },
    {
      "cell_type": "markdown",
      "source": [
        "#Broadcasting\n",
        "\n",
        "If a size of a declared tensor is small, it can automatically be increased to fit a tensor with a much lasrger size. This is called broadcasting."
      ],
      "metadata": {
        "id": "oD_bMOew8_dG"
      }
    },
    {
      "cell_type": "code",
      "source": [
        "x = tf.constant([1, 1, 1]) # a unit tensor \n",
        "\n",
        "y = tf.constant(2)\n",
        "\n",
        "# All of these are the same computation\n",
        "print(tf.multiply(x, 2))\n",
        "print(x * y)\n",
        "# both operations will multiply all the elements by 2, here the size will be the same "
      ],
      "metadata": {
        "colab": {
          "base_uri": "https://localhost:8080/"
        },
        "id": "uCyDnNIL6lN2",
        "outputId": "c3f379e5-c5f7-4309-839a-b7eb89fad1e2"
      },
      "execution_count": null,
      "outputs": [
        {
          "output_type": "stream",
          "name": "stdout",
          "text": [
            "tf.Tensor([2 2 2], shape=(3,), dtype=int32)\n",
            "tf.Tensor([2 2 2], shape=(3,), dtype=int32)\n"
          ]
        }
      ]
    },
    {
      "cell_type": "code",
      "source": [
        "# Now , we will try to the concept of broadcasting in "
      ],
      "metadata": {
        "id": "41yt5-hI-WnZ"
      },
      "execution_count": null,
      "outputs": []
    },
    {
      "cell_type": "markdown",
      "source": [
        "Perform Matrix Multiplication after creating a tensor"
      ],
      "metadata": {
        "id": "DYZH2hr3TGiv"
      }
    },
    {
      "cell_type": "code",
      "source": [
        "x = tf.matmul([[1]], [[2, 3]])\n",
        "print(x)\n",
        "print(x.shape)\n",
        "print(x.dtype)"
      ],
      "metadata": {
        "id": "37UV7CBZ6lRI",
        "colab": {
          "base_uri": "https://localhost:8080/"
        },
        "outputId": "18f7c25f-af7d-482e-c679-1fdbc338fc50"
      },
      "execution_count": null,
      "outputs": [
        {
          "output_type": "stream",
          "name": "stdout",
          "text": [
            "tf.Tensor([[2 3]], shape=(1, 2), dtype=int32)\n",
            "(1, 2)\n",
            "<dtype: 'int32'>\n"
          ]
        }
      ]
    },
    {
      "cell_type": "markdown",
      "source": [
        "Now, we will use a tensorflow functions on a dataset"
      ],
      "metadata": {
        "id": "ajJ03D-MTdaF"
      }
    },
    {
      "cell_type": "code",
      "source": [
        "ds_tensors = tf.data.Dataset.from_tensor_slices([1, 2, 3, 4, 5, 6])\n",
        "\n",
        "# here, we will create a csv file using tempfile library\n",
        "import tempfile\n",
        "_, filename = tempfile.mkstemp()\n",
        "\n",
        "with open(filename, 'w') as func:\n",
        "  func.write(\"\"\"Line 1\n",
        "Line 2\n",
        "Line 3\n",
        "  \"\"\")\n",
        "\n",
        "ds_file = tf.data.TextLineDataset(filename)"
      ],
      "metadata": {
        "id": "DINRsMnXTUtA"
      },
      "execution_count": null,
      "outputs": []
    },
    {
      "cell_type": "code",
      "source": [
        "# Transformation functions applying on csv file\n",
        "ds_tensors = ds_tensors.map(tf.square).shuffle(2).batch(2)\n",
        "\n",
        "ds_file = ds_file.batch(2)"
      ],
      "metadata": {
        "id": "f9cMB18nUD1g"
      },
      "execution_count": null,
      "outputs": []
    },
    {
      "cell_type": "code",
      "source": [
        "print('Elements of ds_tensors:')\n",
        "for x in ds_tensors:\n",
        "  print(x)\n",
        "\n",
        "print('\\nElements in ds_file:')\n",
        "for x in ds_file:\n",
        "  print(x)"
      ],
      "metadata": {
        "colab": {
          "base_uri": "https://localhost:8080/"
        },
        "id": "0nyw8X-OUI2F",
        "outputId": "48e1e608-96bf-4d15-bf35-ed914f1c75b0"
      },
      "execution_count": null,
      "outputs": [
        {
          "output_type": "stream",
          "name": "stdout",
          "text": [
            "Elements of ds_tensors:\n",
            "tf.Tensor(\n",
            "[[ 256  625]\n",
            " [1296   81]], shape=(2, 2), dtype=int32)\n",
            "tf.Tensor([[16  1]], shape=(1, 2), dtype=int32)\n",
            "\n",
            "Elements in ds_file:\n",
            "tf.Tensor(\n",
            "[[b'Line 1' b'Line 2']\n",
            " [b'Line 3' b'  ']], shape=(2, 2), dtype=string)\n"
          ]
        }
      ]
    },
    {
      "cell_type": "markdown",
      "source": [
        "Einsum Operations:\n"
      ],
      "metadata": {
        "id": "f9t0U9DsYjo5"
      }
    },
    {
      "cell_type": "code",
      "source": [
        "x = tf.random.normal(shape=[2, 3])\n",
        "y = tf.random.normal(shape=[3, 5])\n",
        "e = tf.einsum('ij,jk->ik', x, y)\n",
        "\n",
        "print(e.shape)"
      ],
      "metadata": {
        "colab": {
          "base_uri": "https://localhost:8080/"
        },
        "id": "j-GnVNT7YlZj",
        "outputId": "a0429d67-e360-40d0-982e-321a512f8055"
      },
      "execution_count": null,
      "outputs": [
        {
          "output_type": "stream",
          "name": "stdout",
          "text": [
            "(2, 5)\n"
          ]
        }
      ]
    },
    {
      "cell_type": "code",
      "source": [
        "x = tf.reshape(tf.range(9), [3,3])\n",
        "d = tf.einsum('ii->i', x)\n",
        "print(d.shape)"
      ],
      "metadata": {
        "colab": {
          "base_uri": "https://localhost:8080/"
        },
        "id": "2iNDyJlyYuAa",
        "outputId": "affab972-513f-496e-f75c-928ba8cd3b43"
      },
      "execution_count": null,
      "outputs": [
        {
          "output_type": "stream",
          "name": "stdout",
          "text": [
            "(3,)\n"
          ]
        }
      ]
    },
    {
      "cell_type": "markdown",
      "source": [
        "This concludes the first portion of the assignment of performing basic operations on tensors."
      ],
      "metadata": {
        "id": "yBFpySLIUVpe"
      }
    }
  ]
}