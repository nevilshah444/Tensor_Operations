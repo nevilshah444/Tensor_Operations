{
  "nbformat": 4,
  "nbformat_minor": 0,
  "metadata": {
    "colab": {
      "name": "CMPE258Assignment2.ipynb",
      "provenance": [],
      "authorship_tag": "ABX9TyOsqbItDIWDPKUSy8O1C6uK",
      "include_colab_link": true
    },
    "kernelspec": {
      "name": "python3",
      "display_name": "Python 3"
    },
    "language_info": {
      "name": "python"
    }
  },
  "cells": [
    {
      "cell_type": "markdown",
      "metadata": {
        "id": "view-in-github",
        "colab_type": "text"
      },
      "source": [
        "<a href=\"https://colab.research.google.com/github/nevilshah444/Tensor_Operations/blob/main/CMPE258Assignment2.ipynb\" target=\"_parent\"><img src=\"https://colab.research.google.com/assets/colab-badge.svg\" alt=\"Open In Colab\"/></a>"
      ]
    },
    {
      "cell_type": "markdown",
      "source": [
        "Assignment 2b: Performing tensor operations using pytorch"
      ],
      "metadata": {
        "id": "L0CsiLZBZH6O"
      }
    },
    {
      "cell_type": "code",
      "source": [
        "import torch\n",
        "import numpy as np \n",
        "x = torch.ones(5) \n",
        "x"
      ],
      "metadata": {
        "colab": {
          "base_uri": "https://localhost:8080/"
        },
        "id": "fA_SnMt-ZNE7",
        "outputId": "e8eaa005-f2f3-44a3-b385-f3eb42938a76"
      },
      "execution_count": 3,
      "outputs": [
        {
          "output_type": "execute_result",
          "data": {
            "text/plain": [
              "tensor([1., 1., 1., 1., 1.])"
            ]
          },
          "metadata": {},
          "execution_count": 3
        }
      ]
    },
    {
      "cell_type": "code",
      "source": [
        "data = [[1, 0], [1, 0]]\n",
        "x_data = torch.tensor(data)"
      ],
      "metadata": {
        "id": "hHwUNRphaSHx"
      },
      "execution_count": 4,
      "outputs": []
    },
    {
      "cell_type": "code",
      "execution_count": 9,
      "metadata": {
        "colab": {
          "base_uri": "https://localhost:8080/"
        },
        "id": "i64n8qr-UhPV",
        "outputId": "49232329-5883-471d-e84a-2ec77afac7b9"
      },
      "outputs": [
        {
          "output_type": "stream",
          "name": "stdout",
          "text": [
            "Tensor containing all ones: \n",
            " tensor([[1, 1],\n",
            "        [1, 1]]) \n",
            "\n",
            "Tensor containing random numbers: \n",
            " tensor([[0.1729, 0.1469],\n",
            "        [0.7548, 0.3502]]) \n",
            "\n"
          ]
        }
      ],
      "source": [
        "x_ones = torch.ones_like(x_data) # retains the properties of x_data\n",
        "print(f\"Tensor containing all ones: \\n {x_ones} \\n\")\n",
        "\n",
        "x_rand = torch.rand_like(x_data, dtype=torch.float) # overrides the datatype of x_data\n",
        "print(f\"Tensor containing random numbers: \\n {x_rand} \\n\")"
      ]
    },
    {
      "cell_type": "code",
      "source": [
        "# we will approach some operations descriing a tensor\n",
        "tensor = torch.rand(3, 4)\n",
        "\n",
        "print(f\"Shape : {tensor.shape}\")\n",
        "print(f\"Datatype : {tensor.dtype}\")\n",
        "print(f\"Device : {tensor.device}\")"
      ],
      "metadata": {
        "colab": {
          "base_uri": "https://localhost:8080/"
        },
        "id": "98NYoBmwaYWG",
        "outputId": "c17db143-1f5c-4a4b-a112-01f14df1c6b4"
      },
      "execution_count": 8,
      "outputs": [
        {
          "output_type": "stream",
          "name": "stdout",
          "text": [
            "Shape : torch.Size([3, 4])\n",
            "Datatype : torch.float32\n",
            "Device : cpu\n"
          ]
        }
      ]
    },
    {
      "cell_type": "code",
      "source": [
        "# Perform element-wise product\n",
        "\n",
        "tensor1 = torch.ones(4, 4)\n",
        "tensor1[:,1] = 0\n",
        "\n",
        "t1 = torch.cat([tensor1, tensor1, tensor1], dim=1)\n",
        "\n",
        "print(f\"Element wise multiplication is given as  \\n {tensor1 * tensor1}\")"
      ],
      "metadata": {
        "colab": {
          "base_uri": "https://localhost:8080/"
        },
        "id": "Cn_p1jjmaicI",
        "outputId": "ea1506c7-5695-4e5e-8832-c4a0229c20fe"
      },
      "execution_count": 11,
      "outputs": [
        {
          "output_type": "stream",
          "name": "stdout",
          "text": [
            "Element wise multiplication is given as  \n",
            " tensor([[1., 0., 1., 1.],\n",
            "        [1., 0., 1., 1.],\n",
            "        [1., 0., 1., 1.],\n",
            "        [1., 0., 1., 1.]])\n"
          ]
        }
      ]
    },
    {
      "cell_type": "code",
      "source": [
        "#adding a constant to every element\n",
        "\n",
        "tensor1.add_(10)\n",
        "print(tensor1)"
      ],
      "metadata": {
        "colab": {
          "base_uri": "https://localhost:8080/"
        },
        "id": "0ahlLghWbPLO",
        "outputId": "b38e8e8e-adae-49d7-dbc2-5ee857bb6676"
      },
      "execution_count": 12,
      "outputs": [
        {
          "output_type": "stream",
          "name": "stdout",
          "text": [
            "tensor([[11., 10., 11., 11.],\n",
            "        [11., 10., 11., 11.],\n",
            "        [11., 10., 11., 11.],\n",
            "        [11., 10., 11., 11.]])\n"
          ]
        }
      ]
    },
    {
      "cell_type": "code",
      "source": [
        "point = torch.tensor([[4.0, 1.0], [5.0, 3.0], [2.0, 1.0]])\n",
        "second = point[2]\n",
        "\n",
        "second.size()\n"
      ],
      "metadata": {
        "colab": {
          "base_uri": "https://localhost:8080/"
        },
        "id": "ciLOBGnvbTwv",
        "outputId": "2627e4e6-a671-4a7d-a216-8fcc13381d5b"
      },
      "execution_count": 13,
      "outputs": [
        {
          "output_type": "execute_result",
          "data": {
            "text/plain": [
              "torch.Size([2])"
            ]
          },
          "metadata": {},
          "execution_count": 13
        }
      ]
    },
    {
      "cell_type": "code",
      "source": [
        "point.stride()"
      ],
      "metadata": {
        "colab": {
          "base_uri": "https://localhost:8080/"
        },
        "id": "DnT2gvVwbinr",
        "outputId": "5fb1cc5c-9ff2-492d-c9e2-a07e4ace743d"
      },
      "execution_count": 14,
      "outputs": [
        {
          "output_type": "execute_result",
          "data": {
            "text/plain": [
              "(2, 1)"
            ]
          },
          "metadata": {},
          "execution_count": 14
        }
      ]
    },
    {
      "cell_type": "code",
      "source": [
        "#Transposition\n",
        "\n",
        "x = torch.ones(3, 2)\n",
        "trans = a.transpose(0, 1)\n",
        "\n",
        "x.shape, trans.shape"
      ],
      "metadata": {
        "colab": {
          "base_uri": "https://localhost:8080/"
        },
        "id": "E5zAEsVybypN",
        "outputId": "e92ef6e2-cdd1-471c-c3de-be9c96059d14"
      },
      "execution_count": 16,
      "outputs": [
        {
          "output_type": "execute_result",
          "data": {
            "text/plain": [
              "(torch.Size([3, 2]), torch.Size([2, 3]))"
            ]
          },
          "metadata": {},
          "execution_count": 16
        }
      ]
    },
    {
      "cell_type": "code",
      "source": [
        "#indexing & Slicing\n",
        "\n",
        "x = list(range(6))\n",
        "x[:]    \n",
        "x[1:4]  \n",
        "x[1:]   \n",
        "x[:4]   \n",
        "x[:-1]  \n",
        "x[1:4:2]"
      ],
      "metadata": {
        "colab": {
          "base_uri": "https://localhost:8080/"
        },
        "id": "ZaTpmmj_c_uF",
        "outputId": "998ca071-466f-4134-958e-b4890f76e209"
      },
      "execution_count": 18,
      "outputs": [
        {
          "output_type": "execute_result",
          "data": {
            "text/plain": [
              "[1, 3]"
            ]
          },
          "metadata": {},
          "execution_count": 18
        }
      ]
    }
  ]
}